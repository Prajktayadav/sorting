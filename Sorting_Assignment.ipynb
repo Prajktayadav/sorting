{
  "nbformat": 4,
  "nbformat_minor": 0,
  "metadata": {
    "colab": {
      "provenance": []
    },
    "kernelspec": {
      "name": "python3",
      "display_name": "Python 3"
    },
    "language_info": {
      "name": "python"
    }
  },
  "cells": [
    {
      "cell_type": "code",
      "execution_count": 1,
      "metadata": {
        "colab": {
          "base_uri": "https://localhost:8080/"
        },
        "id": "j2r5uvuNfHg7",
        "outputId": "46356b69-2b84-425c-9c3e-a7f05c287adf"
      },
      "outputs": [
        {
          "output_type": "stream",
          "name": "stdout",
          "text": [
            "Element appearing maximum number of times: 3\n"
          ]
        }
      ],
      "source": [
        "#Problem 1.Given an array of n numbers, give an algorithm which gives the element appearing maximum number of times?\n",
        "\n",
        "\n",
        "def max_occurrence(arr):\n",
        "    count_dict = {}\n",
        "\n",
        "    for num in arr:\n",
        "        if num in count_dict:\n",
        "            count_dict[num] += 1\n",
        "        else:\n",
        "            count_dict[num] = 1\n",
        "\n",
        "    max_count = max(count_dict.values())\n",
        "    max_element = None\n",
        "    for key, value in count_dict.items():\n",
        "        if value == max_count:\n",
        "            max_element = key\n",
        "            break\n",
        "\n",
        "    return max_element\n",
        "\n",
        "arr = [1, 2, 3, 4, 2, 2, 3, 3, 3]\n",
        "print(\"Element appearing maximum number of times:\", max_occurrence(arr))\n"
      ]
    },
    {
      "cell_type": "code",
      "source": [
        "#Problem 2 : We are given a list of n-1 integers and these integers are in the range of 1 to n . There are no duplicates in the list. One of the integers is missing in the list. Give an algorithm to find that element Ex: [1,2,4,6,3,7,8] 5 is the missing num.\n",
        "\n",
        "\n",
        "def find_missing_number(arr):\n",
        "    n = len(arr) + 1\n",
        "    total_sum = n * (n + 1) // 2\n",
        "    actual_sum = sum(arr)\n",
        "    missing_number = total_sum - actual_sum\n",
        "    return missing_number\n",
        "\n",
        "arr = [1, 2, 4, 6, 3, 7, 8]\n",
        "missing_num = find_missing_number(arr)\n",
        "print(\"Missing number:\", missing_num)\n"
      ],
      "metadata": {
        "colab": {
          "base_uri": "https://localhost:8080/"
        },
        "id": "jRBaskQ5f_-7",
        "outputId": "aa314831-66bb-4733-f44d-faea554e6f9c"
      },
      "execution_count": 2,
      "outputs": [
        {
          "output_type": "stream",
          "name": "stdout",
          "text": [
            "Missing number: 5\n"
          ]
        }
      ]
    },
    {
      "cell_type": "code",
      "source": [
        "#Problem 3 : Given an array of n positive numbers. All numbers occurs even number of times except 1 which occurs odd number of times. Find that number in O(n) time and O(1) space. Ex: [1,2,3,2,3,1,3]. 3 is repeats odd times.\n",
        "\n",
        "\n",
        "def find_odd_occurrence(arr):\n",
        "    result = 0\n",
        "    for num in arr:\n",
        "        result ^= num\n",
        "    return result\n",
        "\n",
        "arr = [1, 2, 3, 2, 3, 1, 3]\n",
        "odd_occurrence = find_odd_occurrence(arr)\n",
        "print(\"Number occurring odd number of times:\", odd_occurrence)\n"
      ],
      "metadata": {
        "colab": {
          "base_uri": "https://localhost:8080/"
        },
        "id": "YUY9G_tPgTEE",
        "outputId": "1ec95385-60fa-4dbf-f133-088fb51c0197"
      },
      "execution_count": 3,
      "outputs": [
        {
          "output_type": "stream",
          "name": "stdout",
          "text": [
            "Number occurring odd number of times: 3\n"
          ]
        }
      ]
    },
    {
      "cell_type": "code",
      "source": [
        "#Problem 4 : Given an array of n elements. Find two elements in the array such that their sum is equal to given element K.\n",
        "\n",
        "\n",
        "def find_two_sum(arr, K):\n",
        "    num_dict = {}\n",
        "\n",
        "    for i, num in enumerate(arr):\n",
        "        target = K - num\n",
        "        if target in num_dict:\n",
        "            return num, target\n",
        "        num_dict[num] = i\n",
        "\n",
        "    return None\n",
        "arr = [1, 2, 3, 4, 5]\n",
        "K = 7\n",
        "result = find_two_sum(arr, K)\n",
        "if result:\n",
        "    print(\"Pair found:\", result)\n",
        "else:\n",
        "    print(\"No such pair exists.\")\n",
        "\n"
      ],
      "metadata": {
        "colab": {
          "base_uri": "https://localhost:8080/"
        },
        "id": "C5Wd1qpLhoZV",
        "outputId": "027ea2f6-af53-49bb-e52d-e21abdf11daa"
      },
      "execution_count": 4,
      "outputs": [
        {
          "output_type": "stream",
          "name": "stdout",
          "text": [
            "Pair found: (4, 3)\n"
          ]
        }
      ]
    },
    {
      "cell_type": "code",
      "source": [
        "#Problem 5 : Given an array of both positive and negative numbers, find two numbers such that their sum is closest to 0. Ex: [ 1 ,60 ,-10, 70, -80,85]. Ans : -80,85.\n",
        "\n",
        "\n",
        "\n",
        "def find_two_numbers_closest_to_zero(arr):\n",
        "    arr.sort()  # Sort the array\n",
        "\n",
        "    left = 0\n",
        "    right = len(arr) - 1\n",
        "    min_sum = float('inf')\n",
        "    closest_pair = None\n",
        "\n",
        "    while left < right:\n",
        "        current_sum = arr[left] + arr[right]\n",
        "\n",
        "        if abs(current_sum) < abs(min_sum):\n",
        "            min_sum = current_sum\n",
        "            closest_pair = (arr[left], arr[right])\n",
        "\n",
        "        if current_sum < 0:\n",
        "            left += 1\n",
        "        elif current_sum > 0:\n",
        "            right -= 1\n",
        "        else:\n",
        "            break\n",
        "\n",
        "    return closest_pair\n",
        "\n",
        "arr = [1, 60, -10, 70, -80, 85]\n",
        "closest_pair = find_two_numbers_closest_to_zero(arr)\n",
        "print(\"Closest pair to zero:\", closest_pair)\n"
      ],
      "metadata": {
        "colab": {
          "base_uri": "https://localhost:8080/"
        },
        "id": "aumRzy29h4w9",
        "outputId": "c08b49e9-0947-40f4-d6cb-d3a977acf290"
      },
      "execution_count": 5,
      "outputs": [
        {
          "output_type": "stream",
          "name": "stdout",
          "text": [
            "Closest pair to zero: (-80, 85)\n"
          ]
        }
      ]
    },
    {
      "cell_type": "code",
      "source": [
        "#Problem 6 : Given an array of n elements . Find three elements such that their sum is equal to the given number.\n",
        "\n",
        "\n",
        "def find_three_numbers(arr, target):\n",
        "    arr.sort()\n",
        "\n",
        "    for i in range(len(arr) - 2):\n",
        "        left = i + 1\n",
        "        right = len(arr) - 1\n",
        "\n",
        "        while left < right:\n",
        "            current_sum = arr[i] + arr[left] + arr[right]\n",
        "\n",
        "            if current_sum == target:\n",
        "                return arr[i], arr[left], arr[right]\n",
        "            elif current_sum < target:\n",
        "                left += 1\n",
        "            else:\n",
        "                right -= 1\n",
        "\n",
        "    return None\n",
        "\n",
        "arr = [1, 4, 45, 6, 10, 8]\n",
        "target = 22\n",
        "result = find_three_numbers(arr, target)\n",
        "if result:\n",
        "    print(\"Three numbers whose sum is\", target, \":\", result)\n",
        "else:\n",
        "    print(\"No such three numbers found.\")\n"
      ],
      "metadata": {
        "colab": {
          "base_uri": "https://localhost:8080/"
        },
        "id": "vA7chPkqiGSH",
        "outputId": "6254c893-eb7a-4fa5-b9ee-f38141c41229"
      },
      "execution_count": 6,
      "outputs": [
        {
          "output_type": "stream",
          "name": "stdout",
          "text": [
            "Three numbers whose sum is 22 : (4, 8, 10)\n"
          ]
        }
      ]
    },
    {
      "cell_type": "code",
      "source": [
        "#Problem 7 : Given an array of n elements . Find three elements i, j, k in the array such that i * i + j * j = k*k.\n",
        "\n",
        "\n",
        "def find_pythagorean_triplet(arr):\n",
        "    n = len(arr)\n",
        "    square_set = set()\n",
        "\n",
        "    for num in arr:\n",
        "        square_set.add(num * num)\n",
        "\n",
        "    for i in range(n):\n",
        "        for j in range(i + 1, n):\n",
        "            sum_of_squares = arr[i] * arr[i] + arr[j] * arr[j]\n",
        "\n",
        "            if sum_of_squares in square_set:\n",
        "                return arr[i], arr[j], int(sum_of_squares ** 0.5)\n",
        "\n",
        "    return None\n",
        "\n",
        "arr = [3, 1, 4, 6, 5]\n",
        "result = find_pythagorean_triplet(arr)\n",
        "if result:\n",
        "    print(\"Pythagorean triplet found:\", result)\n",
        "else:\n",
        "    print(\"No Pythagorean triplet found.\")\n",
        "\n"
      ],
      "metadata": {
        "colab": {
          "base_uri": "https://localhost:8080/"
        },
        "id": "gdt1PafNmqfs",
        "outputId": "9b479acc-877c-40a2-a09c-4672a0d7cb3f"
      },
      "execution_count": 7,
      "outputs": [
        {
          "output_type": "stream",
          "name": "stdout",
          "text": [
            "Pythagorean triplet found: (3, 4, 5)\n"
          ]
        }
      ]
    },
    {
      "cell_type": "code",
      "source": [
        "#Problem 8 : An element is a majority if it appears more than n/2 times. Give an algorithm takes an array of n element as argument and identifies a majority (if it exists).\n",
        "\n",
        "\n",
        "def find_majority_element(arr):\n",
        "    candidate = None\n",
        "    count = 0\n",
        "\n",
        "    for num in arr:\n",
        "        if count == 0:\n",
        "            candidate = num\n",
        "            count = 1\n",
        "        elif num == candidate:\n",
        "            count += 1\n",
        "        else:\n",
        "            count -= 1\n",
        "\n",
        "    count_candidate = arr.count(candidate)\n",
        "    if count_candidate > len(arr) // 2:\n",
        "        return candidate\n",
        "    else:\n",
        "        return None\n",
        "\n",
        "arr = [3, 3, 4, 2, 4, 4, 2, 4, 4]\n",
        "majority_element = find_majority_element(arr)\n",
        "if majority_element is not None:\n",
        "    print(\"Majority element:\", majority_element)\n",
        "else:\n",
        "    print(\"No majority element found.\")\n"
      ],
      "metadata": {
        "colab": {
          "base_uri": "https://localhost:8080/"
        },
        "id": "k4-btgY9nV6I",
        "outputId": "8637b2f9-136d-43b4-927b-999b25432666"
      },
      "execution_count": 8,
      "outputs": [
        {
          "output_type": "stream",
          "name": "stdout",
          "text": [
            "Majority element: 4\n"
          ]
        }
      ]
    },
    {
      "cell_type": "code",
      "source": [
        "#Problem 9 : Given n × n matrix, and in each row all 1’s are followed by 0’s. Find the row with the maximum number of 0’s.\n",
        "\n",
        "\n",
        "def max_zeros_row(matrix):\n",
        "    max_zeros_count = 0\n",
        "    max_zeros_row_index = -1\n",
        "\n",
        "    n = len(matrix)\n",
        "\n",
        "    for i in range(n):\n",
        "        left, right = 0, n - 1\n",
        "        zeros_count = 0\n",
        "\n",
        "        while left <= right:\n",
        "            mid = left + (right - left) // 2\n",
        "\n",
        "            if matrix[i][mid] == 0:\n",
        "                zeros_count += mid - left + 1\n",
        "                left = mid + 1\n",
        "            else:\n",
        "                right = mid - 1\n",
        "\n",
        "        if zeros_count > max_zeros_count:\n",
        "            max_zeros_count = zeros_count\n",
        "            max_zeros_row_index = i\n",
        "\n",
        "    return max_zeros_row_index\n",
        "\n",
        "matrix = [\n",
        "    [1, 1, 1, 0],\n",
        "    [1, 0, 0, 0],\n",
        "    [1, 1, 0, 0],\n",
        "    [1, 1, 1, 0]\n",
        "]\n",
        "\n",
        "max_zeros_row_index = max_zeros_row(matrix)\n",
        "print(\"Row with the maximum number of zeros:\", max_zeros_row_index)\n"
      ],
      "metadata": {
        "colab": {
          "base_uri": "https://localhost:8080/"
        },
        "id": "ffibGsadoI0a",
        "outputId": "dd0e1ac3-94de-48a1-9a36-138884fb1092"
      },
      "execution_count": 9,
      "outputs": [
        {
          "output_type": "stream",
          "name": "stdout",
          "text": [
            "Row with the maximum number of zeros: 1\n"
          ]
        }
      ]
    },
    {
      "cell_type": "code",
      "source": [
        "#Problem 10 : Sort an array of 0’s, 1’s and 2’s [or R’s, G’s and B’s]: Given an array A[] consisting of 0’s, 1’s and\n",
        "#2’s, give an algorithm for sorting A[].The algorithm should put all 0’s first, then all 1’s and finally all 2’s at the\n",
        "#end. Example Input = {0,1,1,0,1,2,1,2,0,0,0,1}, Output = {0,0,0,0,0,1,1,1,1,1,2,2}\n",
        "\n",
        "\n",
        "\n",
        "def sort_colors(nums):\n",
        "    low = 0\n",
        "    mid = 0\n",
        "    high = len(nums) - 1\n",
        "\n",
        "    while mid <= high:\n",
        "        if nums[mid] == 0:\n",
        "            nums[low], nums[mid] = nums[mid], nums[low]\n",
        "            low += 1\n",
        "            mid += 1\n",
        "        elif nums[mid] == 1:\n",
        "            mid += 1\n",
        "        else:\n",
        "            nums[mid], nums[high] = nums[high], nums[mid]\n",
        "            high -= 1\n",
        "\n",
        "nums = [0, 1, 1, 0, 1, 2, 1, 2, 0, 0, 0, 1]\n",
        "sort_colors(nums)\n",
        "print(\"Sorted array:\", nums)\n"
      ],
      "metadata": {
        "colab": {
          "base_uri": "https://localhost:8080/"
        },
        "id": "NTmXq6yzoaTo",
        "outputId": "609694aa-42f5-4ced-e9d2-0ea50cabfa4f"
      },
      "execution_count": 10,
      "outputs": [
        {
          "output_type": "stream",
          "name": "stdout",
          "text": [
            "Sorted array: [0, 0, 0, 0, 0, 1, 1, 1, 1, 1, 2, 2]\n"
          ]
        }
      ]
    },
    {
      "cell_type": "code",
      "source": [],
      "metadata": {
        "id": "WeASy7ztoofV"
      },
      "execution_count": null,
      "outputs": []
    }
  ]
}